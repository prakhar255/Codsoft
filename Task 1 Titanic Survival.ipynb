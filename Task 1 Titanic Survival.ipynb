{
 "cells": [
  {
   "cell_type": "code",
   "execution_count": 1,
   "id": "5b391e0a-df41-4132-bacc-dc3166c55fc3",
   "metadata": {},
   "outputs": [],
   "source": [
    "#IMPORT LIBRARIES\n",
    "import pandas as pd\n",
    "import numpy as np\n",
    "import seaborn as sns\n",
    "import matplotlib.pyplot as plt"
   ]
  },
  {
   "cell_type": "code",
   "execution_count": null,
   "id": "c298a1fc-7991-48f0-b05c-c03acbca3786",
   "metadata": {},
   "outputs": [],
   "source": [
    "#LOAD DATA\n",
    "file_path=r\"C:\\Users\\Prakhar Khandelwal\\Desktop\\Internship\\Codsoft\\task1\\Titanic-Dataset.csv.crdownload\"\n",
    "data=pd.read_csv(file_path)\n",
    "data.head()"
   ]
  },
  {
   "cell_type": "code",
   "execution_count": null,
   "id": "df3134bb-33de-4327-8635-b04e70fe4d16",
   "metadata": {},
   "outputs": [],
   "source": [
    "# STATISTIC SUMMARY OF DATASET\n",
    "data.describe()"
   ]
  },
  {
   "cell_type": "code",
   "execution_count": null,
   "id": "9062a1d0-2368-4ab3-a00b-d709ac2efaa6",
   "metadata": {},
   "outputs": [],
   "source": [
    "# VISUALIZATION BETWEEN SURVIVAL AND SEX\n",
    "sns.countplot(x='Survived',data=titanic_data,hue='Sex')"
   ]
  },
  {
   "cell_type": "code",
   "execution_count": null,
   "id": "dd6e3d54-9a2b-4009-8e9e-3c6f8a89db02",
   "metadata": {},
   "outputs": [],
   "source": [
    "# DATA ANALYSIS\n",
    "# CHECK FOR NULL\n",
    "data.isna()"
   ]
  },
  {
   "cell_type": "code",
   "execution_count": null,
   "id": "f109e9a5-779c-450d-8f3a-4475be6fcc6f",
   "metadata": {},
   "outputs": [],
   "source": [
    "# CHECK HOW MANY VALUES ARE NULL\n",
    "data.isna().sum()"
   ]
  },
  {
   "cell_type": "code",
   "execution_count": null,
   "id": "ac443b10-b50f-42a8-883c-bab5fe0cbdf4",
   "metadata": {},
   "outputs": [],
   "source": [
    "# DATA CLEANING\n",
    "# HANDLING MISSING VALUES\n",
    "data['Age'].fillna(data['Age'].mean(),inplace=True)\n",
    "data['Embarked'].fillna(data['Embarked'].mode()[0], inplace=True)\n",
    "\n",
    "# CONVERSION TO NUMERRICAL VALUES\n",
    "data['Sex'] = data['Sex'].map({'male': 0, 'female': 1})\n",
    "data['Embarked'] = data['Embarked'].map({'C': 0, 'Q': 1, 'S': 2})"
   ]
  },
  {
   "cell_type": "code",
   "execution_count": null,
   "id": "52a005ad-b024-4c41-9ef4-e138b258d7f1",
   "metadata": {},
   "outputs": [],
   "source": [
    "# DELETE COLUMN \"NAME\",\"SEX\",\"TICKET\",\"CABIN\"\n",
    "data.drop(['Name','Sex','Ticket','Embarked','Cabin'],axis=1,inplace=True)"
   ]
  },
  {
   "cell_type": "code",
   "execution_count": null,
   "id": "ec315ca6-21da-444a-b0f3-89ad92c932c8",
   "metadata": {},
   "outputs": [],
   "source": [
    "# NOW WE ONLY HAVE NUMERICAL DATA\n",
    "data.head()"
   ]
  },
  {
   "cell_type": "code",
   "execution_count": 42,
   "id": "e4948a74-3270-40e4-b6d0-d01f57cd3a8c",
   "metadata": {},
   "outputs": [
    {
     "name": "stderr",
     "output_type": "stream",
     "text": [
      "C:\\Users\\Prakhar Khandelwal\\anaconda3\\Lib\\site-packages\\sklearn\\linear_model\\_logistic.py:458: ConvergenceWarning: lbfgs failed to converge (status=1):\n",
      "STOP: TOTAL NO. of ITERATIONS REACHED LIMIT.\n",
      "\n",
      "Increase the number of iterations (max_iter) or scale the data as shown in:\n",
      "    https://scikit-learn.org/stable/modules/preprocessing.html\n",
      "Please also refer to the documentation for alternative solver options:\n",
      "    https://scikit-learn.org/stable/modules/linear_model.html#logistic-regression\n",
      "  n_iter_i = _check_optimize_result(\n"
     ]
    }
   ],
   "source": [
    "# BUILDING THE MODEL\n",
    "\n",
    "# IMPORT THE LIBRARY\n",
    "from sklearn.model_selection import train_test_split\n",
    "from sklearn.linear_model import LogisticRegression\n",
    "\n",
    "# SPLIT THE DATASET INTO TRAIN AND TEST DATASET\n",
    "X_train, X_test, Y_train, Y_test = train_test_split(X, Y, test_size=0.33, random_state=42)\n",
    "\n",
    "# INITIALIZE THE LR MODEL\n",
    "Lr=LogisticRegression()\n",
    "\n",
    "# TRAIN THE LR MODEL\n",
    "Lr.fit(X_train,Y_train)\n",
    "LogisticRegression()\n",
    "\n",
    "# CREATE PREDICTION USING LR MODEL\n",
    "predict=Lr.predict(X_test)"
   ]
  },
  {
   "cell_type": "code",
   "execution_count": 29,
   "id": "9e03f1b9-bae0-4a07-bfb1-6979b650cc1e",
   "metadata": {},
   "outputs": [],
   "source": [
    "# SPLITTING THE DATA \n",
    "X=data[['PassengerId','Pclass','Age','SibSp','Parch','Fare','Sex']]\n",
    "Y=data['Survived']"
   ]
  },
  {
   "cell_type": "code",
   "execution_count": 39,
   "id": "9448b8ca-c55e-4061-8b5f-ba8c87a589f8",
   "metadata": {},
   "outputs": [
    {
     "name": "stdout",
     "output_type": "stream",
     "text": [
      "Accuracy: 0.8169491525423729\n",
      "            Predicted No  Predicted Yes\n",
      "Actual No            156             19\n",
      "Actual Yes            35             85\n",
      "Classification Report:\n",
      "               precision    recall  f1-score   support\n",
      "\n",
      "           0       0.82      0.89      0.85       175\n",
      "           1       0.82      0.71      0.76       120\n",
      "\n",
      "    accuracy                           0.82       295\n",
      "   macro avg       0.82      0.80      0.81       295\n",
      "weighted avg       0.82      0.82      0.81       295\n",
      "\n"
     ]
    }
   ],
   "source": [
    "# TEST THE MODEL WITH LOGISTICS REGRESSION MODEL\n",
    "# IMPORT THE LIBRARY\n",
    "from sklearn.metrics import accuracy_score, confusion_matrix, classification_report\n",
    "\n",
    "#EVALUATE THE MODEL\n",
    "print('Accuracy:', accuracy_score(Y_test, predict))\n",
    "Confusion_matrix=pd.DataFrame(confusion_matrix(Y_test,predict),columns=['Predicted No','Predicted Yes'],index=['Actual No','Actual Yes'])\n",
    "print(Confusion_matrix)\n",
    "print('Classification Report:\\n', classification_report(Y_test, predict))"
   ]
  },
  {
   "cell_type": "code",
   "execution_count": 41,
   "id": "a2c89eab-319d-4e9e-a552-5010d89d3735",
   "metadata": {},
   "outputs": [
    {
     "name": "stdout",
     "output_type": "stream",
     "text": [
      "Accuracy: 0.7389830508474576\n",
      "            Predicted No  Predicted Yes\n",
      "Actual No            138             37\n",
      "Actual Yes            40             80\n",
      "Classification Report:\n",
      "               precision    recall  f1-score   support\n",
      "\n",
      "           0       0.78      0.79      0.78       175\n",
      "           1       0.68      0.67      0.68       120\n",
      "\n",
      "    accuracy                           0.74       295\n",
      "   macro avg       0.73      0.73      0.73       295\n",
      "weighted avg       0.74      0.74      0.74       295\n",
      "\n"
     ]
    }
   ],
   "source": [
    "# TEST THE MODEL WITH DECISION MODEL\n",
    "# IMPORT THE LIBRARY\n",
    "from sklearn.tree import DecisionTreeClassifier\n",
    "\n",
    "# INITIALIZE AND FIT THE MODEL\n",
    "tree_model = DecisionTreeClassifier()\n",
    "tree_model.fit(X_train, Y_train)\n",
    "\n",
    "# MAKE PREDICTIONS\n",
    "tree_y_pred = tree_model.predict(X_test)\n",
    "\n",
    "# EVALUATE THE MODEL\n",
    "print('Accuracy:', accuracy_score(Y_test, tree_y_pred))\n",
    "Confusion_matrix=pd.DataFrame(confusion_matrix(Y_test,tree_y_pred),columns=['Predicted No','Predicted Yes'],index=['Actual No','Actual Yes'])\n",
    "print(Confusion_matrix)\n",
    "print('Classification Report:\\n', classification_report(Y_test, tree_y_pred))"
   ]
  },
  {
   "cell_type": "code",
   "execution_count": 46,
   "id": "1152f468-6a14-4ece-8993-7d47e97d8d1d",
   "metadata": {},
   "outputs": [],
   "source": [
    "#Note:\n",
    "#Precision : Precision is the ratio of correctly predicted positive observations to the total predicted positive observations <br>\n",
    "#Recall : Recall is the ratio of correctly predicted positive observations to the all observations in actual class\n",
    "#F1 score - F1 Score is the weighted average of Precision and Recall."
   ]
  },
  {
   "cell_type": "code",
   "execution_count": null,
   "id": "49c6f9d7-a77c-447e-8266-376bfb9af329",
   "metadata": {},
   "outputs": [],
   "source": [
    "# RESULT :\n",
    "# HERE WE HAVE COMPARED THE 2 MODEL FOR PREDICTION AND RESULT ARE :\n",
    "#Logistic Regression might provide a slightly lower accuracy compared to a well-tuned Decision Tree but serves as a good baseline model.\n",
    "#Decision Tree can achieve higher accuracy if it captures complex relationships effectively but requires careful tuning to avoid overfitting."
   ]
  }
 ],
 "metadata": {
  "kernelspec": {
   "display_name": "Python 3 (ipykernel)",
   "language": "python",
   "name": "python3"
  },
  "language_info": {
   "codemirror_mode": {
    "name": "ipython",
    "version": 3
   },
   "file_extension": ".py",
   "mimetype": "text/x-python",
   "name": "python",
   "nbconvert_exporter": "python",
   "pygments_lexer": "ipython3",
   "version": "3.11.7"
  }
 },
 "nbformat": 4,
 "nbformat_minor": 5
}
